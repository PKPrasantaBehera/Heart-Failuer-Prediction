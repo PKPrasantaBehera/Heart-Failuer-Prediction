{
  "cells": [
    {
      "cell_type": "markdown",
      "id": "shaped-chest",
      "metadata": {
        "_cell_guid": "b1076dfc-b9ad-4769-8c92-a6c4dae69d19",
        "_uuid": "8f2839f25d086af736a60e9eeb907d3b93b6e0e5",
        "papermill": {
          "duration": 0.041168,
          "end_time": "2021-05-19T07:03:36.383657",
          "exception": false,
          "start_time": "2021-05-19T07:03:36.342489",
          "status": "completed"
        },
        "tags": [],
        "id": "shaped-chest"
      },
      "source": [
        "<center><h1> <u>Heart Failure Prediction</u></h1></center>\n",
        "<img src=\"https://images.pexels.com/photos/6765583/pexels-photo-6765583.jpeg?auto=compress&cs=tinysrgb&dpr=2&h=650&w=940\" width=\"50%\">"
      ]
    },
    {
      "cell_type": "markdown",
      "id": "personalized-grade",
      "metadata": {
        "papermill": {
          "duration": 0.039904,
          "end_time": "2021-05-19T07:03:38.824563",
          "exception": false,
          "start_time": "2021-05-19T07:03:38.784659",
          "status": "completed"
        },
        "tags": [],
        "id": "personalized-grade"
      },
      "source": [
        "<a id=\"section1\"></a>\n",
        "# The problem and The data\n",
        "<a id=\"subsection1\"></a>\n",
        "## Understanding the problem\n",
        "<b>Let's understand the problem that we are going to solve.<br></b>\n",
        "Cardiovascular diseases (CVDs) are the number 1 cause of death globally, taking an estimated 17.9 million lives each year, which accounts for 31% of all deaths worlwide.<br>\n",
        "\n",
        "People with cardiovascular disease or who are at high cardiovascular risk (due to the presence of one or more risk factors such as hypertension, diabetes, hyperlipidaemia or already established disease) need early detection and management.<br>\n",
        "Most cardiovascular diseases can be prevented by addressing behavioural risk factors such as tobacco use, unhealthy diet and obesity, physical inactivity and harmful use of alcohol using population-wide strategies.<br>\n",
        "\n",
        "<a id=\"subsection2\"></a>\n",
        "## About the dataset\n",
        "This dataset contains 12 features that can be used to predict mortality by heart failure.<br>\n",
        "<b> age </b> : Age of the patient <br>\n",
        "<b> anaemia </b> : 0 = N0, 1 = YES  <br>\n",
        "<b> creatinine_phosphokinase </b> : measure of creatinine phosphokinase level in bloodstream <br>\n",
        "<b> diabetes </b> : 0 = NO, 1 = YES <br>\n",
        "<b> ejection_fraction </b> : The measurement of the percentage of blood leaving the heart each time it contracts. <br>\n",
        "<b> high_blood_pressure </b> : 0 = NO, 1 = YES <br>\n",
        "<b> platelets </b> : Count of platelets <br>\n",
        "<b> serum_creatinine </b> : serum creatinine level <br>\n",
        "<b> serum_sodium </b> :  measure of sodium in the body<br>\n",
        "<b> sex </b> :  0 = FEMALE, 1 = MALE<br>\n",
        "<b> smoking </b> : 0 = NO, 1 = YES <br>\n",
        "<b> time </b> : the time at which DEATH_EVENT happened in days. For example; if the patient died, then it tells how many days it took to happen, if the patient survives, it tells how long recovery took.<br>\n",
        "<b> DEATH_EVENT </b> : 0 = NO, 1 = YES (target) <br>\n",
        "\n",
        "#### Source : https://www.kaggle.com/datasets/andrewmvd/heart-failure-clinical-data"
      ]
    },
    {
      "cell_type": "markdown",
      "id": "2e170074",
      "metadata": {
        "id": "2e170074"
      },
      "source": [
        "## Machine Learning Problem\n",
        "\n",
        "- Supervised Learning\n",
        "- Binary Classification\n",
        "- No latency requirement\n",
        "- Errors can be costly"
      ]
    },
    {
      "cell_type": "code",
      "execution_count": null,
      "id": "premier-pastor",
      "metadata": {
        "_kg_hide-input": true,
        "execution": {
          "iopub.execute_input": "2021-05-19T07:03:36.476108Z",
          "iopub.status.busy": "2021-05-19T07:03:36.475462Z",
          "iopub.status.idle": "2021-05-19T07:03:38.743065Z",
          "shell.execute_reply": "2021-05-19T07:03:38.742336Z"
        },
        "papermill": {
          "duration": 2.319848,
          "end_time": "2021-05-19T07:03:38.743232",
          "exception": false,
          "start_time": "2021-05-19T07:03:36.423384",
          "status": "completed"
        },
        "tags": [],
        "id": "premier-pastor"
      },
      "outputs": [],
      "source": [
        "# Importing necessary python modules\n",
        "import pandas as pd\n",
        "import numpy as np\n",
        "import matplotlib.pyplot as plt\n",
        "import seaborn as sns\n",
        "\n",
        "from sklearn.tree import DecisionTreeClassifier\n",
        "from sklearn.linear_model import LogisticRegression\n",
        "from sklearn.ensemble import RandomForestClassifier\n",
        "from sklearn.svm import SVC\n",
        "\n",
        "from sklearn.metrics import classification_report\n",
        "from sklearn.metrics import confusion_matrix\n",
        "from sklearn.metrics import accuracy_score\n",
        "\n",
        "from sklearn.model_selection import RandomizedSearchCV\n",
        "from sklearn.model_selection import train_test_split\n",
        "\n",
        "import warnings\n",
        "warnings.filterwarnings('ignore')\n",
        "#pd.set_option('precision', 2)\n",
        "#pd.set_option('display.float_format', lambda x: '%.2f' % x)\n",
        "plt.style.use('ggplot')"
      ]
    },
    {
      "cell_type": "markdown",
      "id": "exposed-adjustment",
      "metadata": {
        "papermill": {
          "duration": 0.039884,
          "end_time": "2021-05-19T07:03:38.903906",
          "exception": false,
          "start_time": "2021-05-19T07:03:38.864022",
          "status": "completed"
        },
        "tags": [],
        "id": "exposed-adjustment"
      },
      "source": [
        "### Loading the data into memory"
      ]
    },
    {
      "cell_type": "code",
      "execution_count": null,
      "id": "immune-chrome",
      "metadata": {
        "_kg_hide-input": true,
        "execution": {
          "iopub.execute_input": "2021-05-19T07:03:39.010989Z",
          "iopub.status.busy": "2021-05-19T07:03:39.010071Z",
          "iopub.status.idle": "2021-05-19T07:03:39.033254Z",
          "shell.execute_reply": "2021-05-19T07:03:39.032246Z"
        },
        "papermill": {
          "duration": 0.078781,
          "end_time": "2021-05-19T07:03:39.033477",
          "exception": false,
          "start_time": "2021-05-19T07:03:38.954696",
          "status": "completed"
        },
        "tags": [],
        "colab": {
          "base_uri": "https://localhost:8080/"
        },
        "id": "immune-chrome",
        "outputId": "b745039e-dc6f-4578-ef7d-fd0f91f9500d"
      },
      "outputs": [
        {
          "output_type": "stream",
          "name": "stdout",
          "text": [
            "Data loaded successfully!!\n",
            "There are 299 rows and 13 columns are present in the data.\n"
          ]
        }
      ],
      "source": [
        "data = pd.read_csv(\"heart_failure_clinical_records_dataset.csv\")\n",
        "\n",
        "print(\"Data loaded successfully!!\")\n",
        "print(f\"There are {data.shape[0]} rows and {data.shape[1]} columns are present in the data.\")"
      ]
    },
    {
      "cell_type": "markdown",
      "id": "opening-airfare",
      "metadata": {
        "papermill": {
          "duration": 0.039258,
          "end_time": "2021-05-19T07:03:39.120150",
          "exception": false,
          "start_time": "2021-05-19T07:03:39.080892",
          "status": "completed"
        },
        "tags": [],
        "id": "opening-airfare"
      },
      "source": [
        "<a id=\"section2\"></a>\n",
        "# Exploratory Data Analysis\n",
        "\n"
      ]
    },
    {
      "cell_type": "code",
      "execution_count": null,
      "id": "sustainable-copyright",
      "metadata": {
        "execution": {
          "iopub.execute_input": "2021-05-19T07:03:39.205677Z",
          "iopub.status.busy": "2021-05-19T07:03:39.204732Z",
          "iopub.status.idle": "2021-05-19T07:03:39.231551Z",
          "shell.execute_reply": "2021-05-19T07:03:39.232024Z"
        },
        "papermill": {
          "duration": 0.072468,
          "end_time": "2021-05-19T07:03:39.232195",
          "exception": false,
          "start_time": "2021-05-19T07:03:39.159727",
          "status": "completed"
        },
        "tags": [],
        "colab": {
          "base_uri": "https://localhost:8080/",
          "height": 270
        },
        "id": "sustainable-copyright",
        "outputId": "20648dbc-7a18-4706-eb3a-0dbabf2e30d3"
      },
      "outputs": [
        {
          "output_type": "execute_result",
          "data": {
            "text/plain": [
              "      age  anaemia  creatinine_phosphokinase  diabetes  ejection_fraction  \\\n",
              "215  73.0        0                       582         0                 35   \n",
              "177  49.0        1                        69         0                 50   \n",
              "139  50.0        0                      1548         0                 30   \n",
              "92   42.0        0                       582         0                 60   \n",
              "5    90.0        1                        47         0                 40   \n",
              "\n",
              "     high_blood_pressure  platelets  serum_creatinine  serum_sodium  sex  \\\n",
              "215                    1  203000.00              1.30           134    1   \n",
              "177                    0  132000.00              1.00           140    0   \n",
              "139                    1  211000.00              0.80           138    1   \n",
              "92                     0  263358.03              1.18           137    0   \n",
              "5                      1  204000.00              2.10           132    1   \n",
              "\n",
              "     smoking  time  DEATH_EVENT  \n",
              "215        0   195            0  \n",
              "177        0   147            0  \n",
              "139        0   108            0  \n",
              "92         0    82            0  \n",
              "5          1     8            1  "
            ],
            "text/html": [
              "\n",
              "  <div id=\"df-64316982-256c-4681-959a-219bf8215398\">\n",
              "    <div class=\"colab-df-container\">\n",
              "      <div>\n",
              "<style scoped>\n",
              "    .dataframe tbody tr th:only-of-type {\n",
              "        vertical-align: middle;\n",
              "    }\n",
              "\n",
              "    .dataframe tbody tr th {\n",
              "        vertical-align: top;\n",
              "    }\n",
              "\n",
              "    .dataframe thead th {\n",
              "        text-align: right;\n",
              "    }\n",
              "</style>\n",
              "<table border=\"1\" class=\"dataframe\">\n",
              "  <thead>\n",
              "    <tr style=\"text-align: right;\">\n",
              "      <th></th>\n",
              "      <th>age</th>\n",
              "      <th>anaemia</th>\n",
              "      <th>creatinine_phosphokinase</th>\n",
              "      <th>diabetes</th>\n",
              "      <th>ejection_fraction</th>\n",
              "      <th>high_blood_pressure</th>\n",
              "      <th>platelets</th>\n",
              "      <th>serum_creatinine</th>\n",
              "      <th>serum_sodium</th>\n",
              "      <th>sex</th>\n",
              "      <th>smoking</th>\n",
              "      <th>time</th>\n",
              "      <th>DEATH_EVENT</th>\n",
              "    </tr>\n",
              "  </thead>\n",
              "  <tbody>\n",
              "    <tr>\n",
              "      <th>215</th>\n",
              "      <td>73.0</td>\n",
              "      <td>0</td>\n",
              "      <td>582</td>\n",
              "      <td>0</td>\n",
              "      <td>35</td>\n",
              "      <td>1</td>\n",
              "      <td>203000.00</td>\n",
              "      <td>1.30</td>\n",
              "      <td>134</td>\n",
              "      <td>1</td>\n",
              "      <td>0</td>\n",
              "      <td>195</td>\n",
              "      <td>0</td>\n",
              "    </tr>\n",
              "    <tr>\n",
              "      <th>177</th>\n",
              "      <td>49.0</td>\n",
              "      <td>1</td>\n",
              "      <td>69</td>\n",
              "      <td>0</td>\n",
              "      <td>50</td>\n",
              "      <td>0</td>\n",
              "      <td>132000.00</td>\n",
              "      <td>1.00</td>\n",
              "      <td>140</td>\n",
              "      <td>0</td>\n",
              "      <td>0</td>\n",
              "      <td>147</td>\n",
              "      <td>0</td>\n",
              "    </tr>\n",
              "    <tr>\n",
              "      <th>139</th>\n",
              "      <td>50.0</td>\n",
              "      <td>0</td>\n",
              "      <td>1548</td>\n",
              "      <td>0</td>\n",
              "      <td>30</td>\n",
              "      <td>1</td>\n",
              "      <td>211000.00</td>\n",
              "      <td>0.80</td>\n",
              "      <td>138</td>\n",
              "      <td>1</td>\n",
              "      <td>0</td>\n",
              "      <td>108</td>\n",
              "      <td>0</td>\n",
              "    </tr>\n",
              "    <tr>\n",
              "      <th>92</th>\n",
              "      <td>42.0</td>\n",
              "      <td>0</td>\n",
              "      <td>582</td>\n",
              "      <td>0</td>\n",
              "      <td>60</td>\n",
              "      <td>0</td>\n",
              "      <td>263358.03</td>\n",
              "      <td>1.18</td>\n",
              "      <td>137</td>\n",
              "      <td>0</td>\n",
              "      <td>0</td>\n",
              "      <td>82</td>\n",
              "      <td>0</td>\n",
              "    </tr>\n",
              "    <tr>\n",
              "      <th>5</th>\n",
              "      <td>90.0</td>\n",
              "      <td>1</td>\n",
              "      <td>47</td>\n",
              "      <td>0</td>\n",
              "      <td>40</td>\n",
              "      <td>1</td>\n",
              "      <td>204000.00</td>\n",
              "      <td>2.10</td>\n",
              "      <td>132</td>\n",
              "      <td>1</td>\n",
              "      <td>1</td>\n",
              "      <td>8</td>\n",
              "      <td>1</td>\n",
              "    </tr>\n",
              "  </tbody>\n",
              "</table>\n",
              "</div>\n",
              "      <button class=\"colab-df-convert\" onclick=\"convertToInteractive('df-64316982-256c-4681-959a-219bf8215398')\"\n",
              "              title=\"Convert this dataframe to an interactive table.\"\n",
              "              style=\"display:none;\">\n",
              "        \n",
              "  <svg xmlns=\"http://www.w3.org/2000/svg\" height=\"24px\"viewBox=\"0 0 24 24\"\n",
              "       width=\"24px\">\n",
              "    <path d=\"M0 0h24v24H0V0z\" fill=\"none\"/>\n",
              "    <path d=\"M18.56 5.44l.94 2.06.94-2.06 2.06-.94-2.06-.94-.94-2.06-.94 2.06-2.06.94zm-11 1L8.5 8.5l.94-2.06 2.06-.94-2.06-.94L8.5 2.5l-.94 2.06-2.06.94zm10 10l.94 2.06.94-2.06 2.06-.94-2.06-.94-.94-2.06-.94 2.06-2.06.94z\"/><path d=\"M17.41 7.96l-1.37-1.37c-.4-.4-.92-.59-1.43-.59-.52 0-1.04.2-1.43.59L10.3 9.45l-7.72 7.72c-.78.78-.78 2.05 0 2.83L4 21.41c.39.39.9.59 1.41.59.51 0 1.02-.2 1.41-.59l7.78-7.78 2.81-2.81c.8-.78.8-2.07 0-2.86zM5.41 20L4 18.59l7.72-7.72 1.47 1.35L5.41 20z\"/>\n",
              "  </svg>\n",
              "      </button>\n",
              "      \n",
              "  <style>\n",
              "    .colab-df-container {\n",
              "      display:flex;\n",
              "      flex-wrap:wrap;\n",
              "      gap: 12px;\n",
              "    }\n",
              "\n",
              "    .colab-df-convert {\n",
              "      background-color: #E8F0FE;\n",
              "      border: none;\n",
              "      border-radius: 50%;\n",
              "      cursor: pointer;\n",
              "      display: none;\n",
              "      fill: #1967D2;\n",
              "      height: 32px;\n",
              "      padding: 0 0 0 0;\n",
              "      width: 32px;\n",
              "    }\n",
              "\n",
              "    .colab-df-convert:hover {\n",
              "      background-color: #E2EBFA;\n",
              "      box-shadow: 0px 1px 2px rgba(60, 64, 67, 0.3), 0px 1px 3px 1px rgba(60, 64, 67, 0.15);\n",
              "      fill: #174EA6;\n",
              "    }\n",
              "\n",
              "    [theme=dark] .colab-df-convert {\n",
              "      background-color: #3B4455;\n",
              "      fill: #D2E3FC;\n",
              "    }\n",
              "\n",
              "    [theme=dark] .colab-df-convert:hover {\n",
              "      background-color: #434B5C;\n",
              "      box-shadow: 0px 1px 3px 1px rgba(0, 0, 0, 0.15);\n",
              "      filter: drop-shadow(0px 1px 2px rgba(0, 0, 0, 0.3));\n",
              "      fill: #FFFFFF;\n",
              "    }\n",
              "  </style>\n",
              "\n",
              "      <script>\n",
              "        const buttonEl =\n",
              "          document.querySelector('#df-64316982-256c-4681-959a-219bf8215398 button.colab-df-convert');\n",
              "        buttonEl.style.display =\n",
              "          google.colab.kernel.accessAllowed ? 'block' : 'none';\n",
              "\n",
              "        async function convertToInteractive(key) {\n",
              "          const element = document.querySelector('#df-64316982-256c-4681-959a-219bf8215398');\n",
              "          const dataTable =\n",
              "            await google.colab.kernel.invokeFunction('convertToInteractive',\n",
              "                                                     [key], {});\n",
              "          if (!dataTable) return;\n",
              "\n",
              "          const docLinkHtml = 'Like what you see? Visit the ' +\n",
              "            '<a target=\"_blank\" href=https://colab.research.google.com/notebooks/data_table.ipynb>data table notebook</a>'\n",
              "            + ' to learn more about interactive tables.';\n",
              "          element.innerHTML = '';\n",
              "          dataTable['output_type'] = 'display_data';\n",
              "          await google.colab.output.renderOutput(dataTable, element);\n",
              "          const docLink = document.createElement('div');\n",
              "          docLink.innerHTML = docLinkHtml;\n",
              "          element.appendChild(docLink);\n",
              "        }\n",
              "      </script>\n",
              "    </div>\n",
              "  </div>\n",
              "  "
            ]
          },
          "metadata": {},
          "execution_count": 3
        }
      ],
      "source": [
        "# random sample of data\n",
        "data.sample(5)"
      ]
    },
    {
      "cell_type": "code",
      "execution_count": null,
      "id": "28095d15",
      "metadata": {
        "id": "28095d15"
      },
      "outputs": [],
      "source": [
        "# remove time\n",
        "data.drop('time', inplace=True, axis=1)"
      ]
    },
    {
      "cell_type": "code",
      "execution_count": null,
      "id": "respective-session",
      "metadata": {
        "execution": {
          "iopub.execute_input": "2021-05-19T07:03:39.321201Z",
          "iopub.status.busy": "2021-05-19T07:03:39.315864Z",
          "iopub.status.idle": "2021-05-19T07:03:39.365512Z",
          "shell.execute_reply": "2021-05-19T07:03:39.364992Z"
        },
        "papermill": {
          "duration": 0.093285,
          "end_time": "2021-05-19T07:03:39.365671",
          "exception": false,
          "start_time": "2021-05-19T07:03:39.272386",
          "status": "completed"
        },
        "tags": [],
        "colab": {
          "base_uri": "https://localhost:8080/",
          "height": 364
        },
        "id": "respective-session",
        "outputId": "a2f9eb4a-3730-43ad-900d-efa3723c459c"
      },
      "outputs": [
        {
          "output_type": "execute_result",
          "data": {
            "text/plain": [
              "              age     anaemia  creatinine_phosphokinase    diabetes  \\\n",
              "count  299.000000  299.000000                299.000000  299.000000   \n",
              "mean    60.833893    0.431438                581.839465    0.418060   \n",
              "std     11.894809    0.496107                970.287881    0.494067   \n",
              "min     40.000000    0.000000                 23.000000    0.000000   \n",
              "25%     51.000000    0.000000                116.500000    0.000000   \n",
              "50%     60.000000    0.000000                250.000000    0.000000   \n",
              "75%     70.000000    1.000000                582.000000    1.000000   \n",
              "max     95.000000    1.000000               7861.000000    1.000000   \n",
              "\n",
              "       ejection_fraction  high_blood_pressure      platelets  \\\n",
              "count         299.000000           299.000000     299.000000   \n",
              "mean           38.083612             0.351171  263358.029264   \n",
              "std            11.834841             0.478136   97804.236869   \n",
              "min            14.000000             0.000000   25100.000000   \n",
              "25%            30.000000             0.000000  212500.000000   \n",
              "50%            38.000000             0.000000  262000.000000   \n",
              "75%            45.000000             1.000000  303500.000000   \n",
              "max            80.000000             1.000000  850000.000000   \n",
              "\n",
              "       serum_creatinine  serum_sodium         sex    smoking  DEATH_EVENT  \n",
              "count         299.00000    299.000000  299.000000  299.00000    299.00000  \n",
              "mean            1.39388    136.625418    0.648829    0.32107      0.32107  \n",
              "std             1.03451      4.412477    0.478136    0.46767      0.46767  \n",
              "min             0.50000    113.000000    0.000000    0.00000      0.00000  \n",
              "25%             0.90000    134.000000    0.000000    0.00000      0.00000  \n",
              "50%             1.10000    137.000000    1.000000    0.00000      0.00000  \n",
              "75%             1.40000    140.000000    1.000000    1.00000      1.00000  \n",
              "max             9.40000    148.000000    1.000000    1.00000      1.00000  "
            ],
            "text/html": [
              "\n",
              "  <div id=\"df-6d95c654-23c0-4ffe-9d71-23614cd48a2b\">\n",
              "    <div class=\"colab-df-container\">\n",
              "      <div>\n",
              "<style scoped>\n",
              "    .dataframe tbody tr th:only-of-type {\n",
              "        vertical-align: middle;\n",
              "    }\n",
              "\n",
              "    .dataframe tbody tr th {\n",
              "        vertical-align: top;\n",
              "    }\n",
              "\n",
              "    .dataframe thead th {\n",
              "        text-align: right;\n",
              "    }\n",
              "</style>\n",
              "<table border=\"1\" class=\"dataframe\">\n",
              "  <thead>\n",
              "    <tr style=\"text-align: right;\">\n",
              "      <th></th>\n",
              "      <th>age</th>\n",
              "      <th>anaemia</th>\n",
              "      <th>creatinine_phosphokinase</th>\n",
              "      <th>diabetes</th>\n",
              "      <th>ejection_fraction</th>\n",
              "      <th>high_blood_pressure</th>\n",
              "      <th>platelets</th>\n",
              "      <th>serum_creatinine</th>\n",
              "      <th>serum_sodium</th>\n",
              "      <th>sex</th>\n",
              "      <th>smoking</th>\n",
              "      <th>DEATH_EVENT</th>\n",
              "    </tr>\n",
              "  </thead>\n",
              "  <tbody>\n",
              "    <tr>\n",
              "      <th>count</th>\n",
              "      <td>299.000000</td>\n",
              "      <td>299.000000</td>\n",
              "      <td>299.000000</td>\n",
              "      <td>299.000000</td>\n",
              "      <td>299.000000</td>\n",
              "      <td>299.000000</td>\n",
              "      <td>299.000000</td>\n",
              "      <td>299.00000</td>\n",
              "      <td>299.000000</td>\n",
              "      <td>299.000000</td>\n",
              "      <td>299.00000</td>\n",
              "      <td>299.00000</td>\n",
              "    </tr>\n",
              "    <tr>\n",
              "      <th>mean</th>\n",
              "      <td>60.833893</td>\n",
              "      <td>0.431438</td>\n",
              "      <td>581.839465</td>\n",
              "      <td>0.418060</td>\n",
              "      <td>38.083612</td>\n",
              "      <td>0.351171</td>\n",
              "      <td>263358.029264</td>\n",
              "      <td>1.39388</td>\n",
              "      <td>136.625418</td>\n",
              "      <td>0.648829</td>\n",
              "      <td>0.32107</td>\n",
              "      <td>0.32107</td>\n",
              "    </tr>\n",
              "    <tr>\n",
              "      <th>std</th>\n",
              "      <td>11.894809</td>\n",
              "      <td>0.496107</td>\n",
              "      <td>970.287881</td>\n",
              "      <td>0.494067</td>\n",
              "      <td>11.834841</td>\n",
              "      <td>0.478136</td>\n",
              "      <td>97804.236869</td>\n",
              "      <td>1.03451</td>\n",
              "      <td>4.412477</td>\n",
              "      <td>0.478136</td>\n",
              "      <td>0.46767</td>\n",
              "      <td>0.46767</td>\n",
              "    </tr>\n",
              "    <tr>\n",
              "      <th>min</th>\n",
              "      <td>40.000000</td>\n",
              "      <td>0.000000</td>\n",
              "      <td>23.000000</td>\n",
              "      <td>0.000000</td>\n",
              "      <td>14.000000</td>\n",
              "      <td>0.000000</td>\n",
              "      <td>25100.000000</td>\n",
              "      <td>0.50000</td>\n",
              "      <td>113.000000</td>\n",
              "      <td>0.000000</td>\n",
              "      <td>0.00000</td>\n",
              "      <td>0.00000</td>\n",
              "    </tr>\n",
              "    <tr>\n",
              "      <th>25%</th>\n",
              "      <td>51.000000</td>\n",
              "      <td>0.000000</td>\n",
              "      <td>116.500000</td>\n",
              "      <td>0.000000</td>\n",
              "      <td>30.000000</td>\n",
              "      <td>0.000000</td>\n",
              "      <td>212500.000000</td>\n",
              "      <td>0.90000</td>\n",
              "      <td>134.000000</td>\n",
              "      <td>0.000000</td>\n",
              "      <td>0.00000</td>\n",
              "      <td>0.00000</td>\n",
              "    </tr>\n",
              "    <tr>\n",
              "      <th>50%</th>\n",
              "      <td>60.000000</td>\n",
              "      <td>0.000000</td>\n",
              "      <td>250.000000</td>\n",
              "      <td>0.000000</td>\n",
              "      <td>38.000000</td>\n",
              "      <td>0.000000</td>\n",
              "      <td>262000.000000</td>\n",
              "      <td>1.10000</td>\n",
              "      <td>137.000000</td>\n",
              "      <td>1.000000</td>\n",
              "      <td>0.00000</td>\n",
              "      <td>0.00000</td>\n",
              "    </tr>\n",
              "    <tr>\n",
              "      <th>75%</th>\n",
              "      <td>70.000000</td>\n",
              "      <td>1.000000</td>\n",
              "      <td>582.000000</td>\n",
              "      <td>1.000000</td>\n",
              "      <td>45.000000</td>\n",
              "      <td>1.000000</td>\n",
              "      <td>303500.000000</td>\n",
              "      <td>1.40000</td>\n",
              "      <td>140.000000</td>\n",
              "      <td>1.000000</td>\n",
              "      <td>1.00000</td>\n",
              "      <td>1.00000</td>\n",
              "    </tr>\n",
              "    <tr>\n",
              "      <th>max</th>\n",
              "      <td>95.000000</td>\n",
              "      <td>1.000000</td>\n",
              "      <td>7861.000000</td>\n",
              "      <td>1.000000</td>\n",
              "      <td>80.000000</td>\n",
              "      <td>1.000000</td>\n",
              "      <td>850000.000000</td>\n",
              "      <td>9.40000</td>\n",
              "      <td>148.000000</td>\n",
              "      <td>1.000000</td>\n",
              "      <td>1.00000</td>\n",
              "      <td>1.00000</td>\n",
              "    </tr>\n",
              "  </tbody>\n",
              "</table>\n",
              "</div>\n",
              "      <button class=\"colab-df-convert\" onclick=\"convertToInteractive('df-6d95c654-23c0-4ffe-9d71-23614cd48a2b')\"\n",
              "              title=\"Convert this dataframe to an interactive table.\"\n",
              "              style=\"display:none;\">\n",
              "        \n",
              "  <svg xmlns=\"http://www.w3.org/2000/svg\" height=\"24px\"viewBox=\"0 0 24 24\"\n",
              "       width=\"24px\">\n",
              "    <path d=\"M0 0h24v24H0V0z\" fill=\"none\"/>\n",
              "    <path d=\"M18.56 5.44l.94 2.06.94-2.06 2.06-.94-2.06-.94-.94-2.06-.94 2.06-2.06.94zm-11 1L8.5 8.5l.94-2.06 2.06-.94-2.06-.94L8.5 2.5l-.94 2.06-2.06.94zm10 10l.94 2.06.94-2.06 2.06-.94-2.06-.94-.94-2.06-.94 2.06-2.06.94z\"/><path d=\"M17.41 7.96l-1.37-1.37c-.4-.4-.92-.59-1.43-.59-.52 0-1.04.2-1.43.59L10.3 9.45l-7.72 7.72c-.78.78-.78 2.05 0 2.83L4 21.41c.39.39.9.59 1.41.59.51 0 1.02-.2 1.41-.59l7.78-7.78 2.81-2.81c.8-.78.8-2.07 0-2.86zM5.41 20L4 18.59l7.72-7.72 1.47 1.35L5.41 20z\"/>\n",
              "  </svg>\n",
              "      </button>\n",
              "      \n",
              "  <style>\n",
              "    .colab-df-container {\n",
              "      display:flex;\n",
              "      flex-wrap:wrap;\n",
              "      gap: 12px;\n",
              "    }\n",
              "\n",
              "    .colab-df-convert {\n",
              "      background-color: #E8F0FE;\n",
              "      border: none;\n",
              "      border-radius: 50%;\n",
              "      cursor: pointer;\n",
              "      display: none;\n",
              "      fill: #1967D2;\n",
              "      height: 32px;\n",
              "      padding: 0 0 0 0;\n",
              "      width: 32px;\n",
              "    }\n",
              "\n",
              "    .colab-df-convert:hover {\n",
              "      background-color: #E2EBFA;\n",
              "      box-shadow: 0px 1px 2px rgba(60, 64, 67, 0.3), 0px 1px 3px 1px rgba(60, 64, 67, 0.15);\n",
              "      fill: #174EA6;\n",
              "    }\n",
              "\n",
              "    [theme=dark] .colab-df-convert {\n",
              "      background-color: #3B4455;\n",
              "      fill: #D2E3FC;\n",
              "    }\n",
              "\n",
              "    [theme=dark] .colab-df-convert:hover {\n",
              "      background-color: #434B5C;\n",
              "      box-shadow: 0px 1px 3px 1px rgba(0, 0, 0, 0.15);\n",
              "      filter: drop-shadow(0px 1px 2px rgba(0, 0, 0, 0.3));\n",
              "      fill: #FFFFFF;\n",
              "    }\n",
              "  </style>\n",
              "\n",
              "      <script>\n",
              "        const buttonEl =\n",
              "          document.querySelector('#df-6d95c654-23c0-4ffe-9d71-23614cd48a2b button.colab-df-convert');\n",
              "        buttonEl.style.display =\n",
              "          google.colab.kernel.accessAllowed ? 'block' : 'none';\n",
              "\n",
              "        async function convertToInteractive(key) {\n",
              "          const element = document.querySelector('#df-6d95c654-23c0-4ffe-9d71-23614cd48a2b');\n",
              "          const dataTable =\n",
              "            await google.colab.kernel.invokeFunction('convertToInteractive',\n",
              "                                                     [key], {});\n",
              "          if (!dataTable) return;\n",
              "\n",
              "          const docLinkHtml = 'Like what you see? Visit the ' +\n",
              "            '<a target=\"_blank\" href=https://colab.research.google.com/notebooks/data_table.ipynb>data table notebook</a>'\n",
              "            + ' to learn more about interactive tables.';\n",
              "          element.innerHTML = '';\n",
              "          dataTable['output_type'] = 'display_data';\n",
              "          await google.colab.output.renderOutput(dataTable, element);\n",
              "          const docLink = document.createElement('div');\n",
              "          docLink.innerHTML = docLinkHtml;\n",
              "          element.appendChild(docLink);\n",
              "        }\n",
              "      </script>\n",
              "    </div>\n",
              "  </div>\n",
              "  "
            ]
          },
          "metadata": {},
          "execution_count": 5
        }
      ],
      "source": [
        "# statistical summary\n",
        "data.describe()"
      ]
    },
    {
      "cell_type": "code",
      "execution_count": null,
      "id": "white-calculation",
      "metadata": {
        "execution": {
          "iopub.execute_input": "2021-05-19T07:03:39.456542Z",
          "iopub.status.busy": "2021-05-19T07:03:39.455919Z",
          "iopub.status.idle": "2021-05-19T07:03:39.459692Z",
          "shell.execute_reply": "2021-05-19T07:03:39.459135Z"
        },
        "papermill": {
          "duration": 0.054036,
          "end_time": "2021-05-19T07:03:39.459843",
          "exception": false,
          "start_time": "2021-05-19T07:03:39.405807",
          "status": "completed"
        },
        "tags": [],
        "colab": {
          "base_uri": "https://localhost:8080/",
          "height": 426
        },
        "id": "white-calculation",
        "outputId": "d12f34fa-3cc4-4465-ac0d-6eea44084b42"
      },
      "outputs": [
        {
          "output_type": "execute_result",
          "data": {
            "text/plain": [
              "                          % of null values\n",
              "age                                    0.0\n",
              "anaemia                                0.0\n",
              "creatinine_phosphokinase               0.0\n",
              "diabetes                               0.0\n",
              "ejection_fraction                      0.0\n",
              "high_blood_pressure                    0.0\n",
              "platelets                              0.0\n",
              "serum_creatinine                       0.0\n",
              "serum_sodium                           0.0\n",
              "sex                                    0.0\n",
              "smoking                                0.0\n",
              "DEATH_EVENT                            0.0"
            ],
            "text/html": [
              "\n",
              "  <div id=\"df-6c4a6824-bbb0-46a7-902a-175dfad9d017\">\n",
              "    <div class=\"colab-df-container\">\n",
              "      <div>\n",
              "<style scoped>\n",
              "    .dataframe tbody tr th:only-of-type {\n",
              "        vertical-align: middle;\n",
              "    }\n",
              "\n",
              "    .dataframe tbody tr th {\n",
              "        vertical-align: top;\n",
              "    }\n",
              "\n",
              "    .dataframe thead th {\n",
              "        text-align: right;\n",
              "    }\n",
              "</style>\n",
              "<table border=\"1\" class=\"dataframe\">\n",
              "  <thead>\n",
              "    <tr style=\"text-align: right;\">\n",
              "      <th></th>\n",
              "      <th>% of null values</th>\n",
              "    </tr>\n",
              "  </thead>\n",
              "  <tbody>\n",
              "    <tr>\n",
              "      <th>age</th>\n",
              "      <td>0.0</td>\n",
              "    </tr>\n",
              "    <tr>\n",
              "      <th>anaemia</th>\n",
              "      <td>0.0</td>\n",
              "    </tr>\n",
              "    <tr>\n",
              "      <th>creatinine_phosphokinase</th>\n",
              "      <td>0.0</td>\n",
              "    </tr>\n",
              "    <tr>\n",
              "      <th>diabetes</th>\n",
              "      <td>0.0</td>\n",
              "    </tr>\n",
              "    <tr>\n",
              "      <th>ejection_fraction</th>\n",
              "      <td>0.0</td>\n",
              "    </tr>\n",
              "    <tr>\n",
              "      <th>high_blood_pressure</th>\n",
              "      <td>0.0</td>\n",
              "    </tr>\n",
              "    <tr>\n",
              "      <th>platelets</th>\n",
              "      <td>0.0</td>\n",
              "    </tr>\n",
              "    <tr>\n",
              "      <th>serum_creatinine</th>\n",
              "      <td>0.0</td>\n",
              "    </tr>\n",
              "    <tr>\n",
              "      <th>serum_sodium</th>\n",
              "      <td>0.0</td>\n",
              "    </tr>\n",
              "    <tr>\n",
              "      <th>sex</th>\n",
              "      <td>0.0</td>\n",
              "    </tr>\n",
              "    <tr>\n",
              "      <th>smoking</th>\n",
              "      <td>0.0</td>\n",
              "    </tr>\n",
              "    <tr>\n",
              "      <th>DEATH_EVENT</th>\n",
              "      <td>0.0</td>\n",
              "    </tr>\n",
              "  </tbody>\n",
              "</table>\n",
              "</div>\n",
              "      <button class=\"colab-df-convert\" onclick=\"convertToInteractive('df-6c4a6824-bbb0-46a7-902a-175dfad9d017')\"\n",
              "              title=\"Convert this dataframe to an interactive table.\"\n",
              "              style=\"display:none;\">\n",
              "        \n",
              "  <svg xmlns=\"http://www.w3.org/2000/svg\" height=\"24px\"viewBox=\"0 0 24 24\"\n",
              "       width=\"24px\">\n",
              "    <path d=\"M0 0h24v24H0V0z\" fill=\"none\"/>\n",
              "    <path d=\"M18.56 5.44l.94 2.06.94-2.06 2.06-.94-2.06-.94-.94-2.06-.94 2.06-2.06.94zm-11 1L8.5 8.5l.94-2.06 2.06-.94-2.06-.94L8.5 2.5l-.94 2.06-2.06.94zm10 10l.94 2.06.94-2.06 2.06-.94-2.06-.94-.94-2.06-.94 2.06-2.06.94z\"/><path d=\"M17.41 7.96l-1.37-1.37c-.4-.4-.92-.59-1.43-.59-.52 0-1.04.2-1.43.59L10.3 9.45l-7.72 7.72c-.78.78-.78 2.05 0 2.83L4 21.41c.39.39.9.59 1.41.59.51 0 1.02-.2 1.41-.59l7.78-7.78 2.81-2.81c.8-.78.8-2.07 0-2.86zM5.41 20L4 18.59l7.72-7.72 1.47 1.35L5.41 20z\"/>\n",
              "  </svg>\n",
              "      </button>\n",
              "      \n",
              "  <style>\n",
              "    .colab-df-container {\n",
              "      display:flex;\n",
              "      flex-wrap:wrap;\n",
              "      gap: 12px;\n",
              "    }\n",
              "\n",
              "    .colab-df-convert {\n",
              "      background-color: #E8F0FE;\n",
              "      border: none;\n",
              "      border-radius: 50%;\n",
              "      cursor: pointer;\n",
              "      display: none;\n",
              "      fill: #1967D2;\n",
              "      height: 32px;\n",
              "      padding: 0 0 0 0;\n",
              "      width: 32px;\n",
              "    }\n",
              "\n",
              "    .colab-df-convert:hover {\n",
              "      background-color: #E2EBFA;\n",
              "      box-shadow: 0px 1px 2px rgba(60, 64, 67, 0.3), 0px 1px 3px 1px rgba(60, 64, 67, 0.15);\n",
              "      fill: #174EA6;\n",
              "    }\n",
              "\n",
              "    [theme=dark] .colab-df-convert {\n",
              "      background-color: #3B4455;\n",
              "      fill: #D2E3FC;\n",
              "    }\n",
              "\n",
              "    [theme=dark] .colab-df-convert:hover {\n",
              "      background-color: #434B5C;\n",
              "      box-shadow: 0px 1px 3px 1px rgba(0, 0, 0, 0.15);\n",
              "      filter: drop-shadow(0px 1px 2px rgba(0, 0, 0, 0.3));\n",
              "      fill: #FFFFFF;\n",
              "    }\n",
              "  </style>\n",
              "\n",
              "      <script>\n",
              "        const buttonEl =\n",
              "          document.querySelector('#df-6c4a6824-bbb0-46a7-902a-175dfad9d017 button.colab-df-convert');\n",
              "        buttonEl.style.display =\n",
              "          google.colab.kernel.accessAllowed ? 'block' : 'none';\n",
              "\n",
              "        async function convertToInteractive(key) {\n",
              "          const element = document.querySelector('#df-6c4a6824-bbb0-46a7-902a-175dfad9d017');\n",
              "          const dataTable =\n",
              "            await google.colab.kernel.invokeFunction('convertToInteractive',\n",
              "                                                     [key], {});\n",
              "          if (!dataTable) return;\n",
              "\n",
              "          const docLinkHtml = 'Like what you see? Visit the ' +\n",
              "            '<a target=\"_blank\" href=https://colab.research.google.com/notebooks/data_table.ipynb>data table notebook</a>'\n",
              "            + ' to learn more about interactive tables.';\n",
              "          element.innerHTML = '';\n",
              "          dataTable['output_type'] = 'display_data';\n",
              "          await google.colab.output.renderOutput(dataTable, element);\n",
              "          const docLink = document.createElement('div');\n",
              "          docLink.innerHTML = docLinkHtml;\n",
              "          element.appendChild(docLink);\n",
              "        }\n",
              "      </script>\n",
              "    </div>\n",
              "  </div>\n",
              "  "
            ]
          },
          "metadata": {},
          "execution_count": 6
        }
      ],
      "source": [
        "# Null values\n",
        "data.isna().mean().to_frame(name=\"% of null values\")"
      ]
    },
    {
      "cell_type": "code",
      "execution_count": null,
      "id": "useful-logan",
      "metadata": {
        "execution": {
          "iopub.execute_input": "2021-05-19T07:03:39.548637Z",
          "iopub.status.busy": "2021-05-19T07:03:39.547705Z",
          "iopub.status.idle": "2021-05-19T07:03:39.564051Z",
          "shell.execute_reply": "2021-05-19T07:03:39.563543Z"
        },
        "papermill": {
          "duration": 0.06287,
          "end_time": "2021-05-19T07:03:39.564190",
          "exception": false,
          "start_time": "2021-05-19T07:03:39.501320",
          "status": "completed"
        },
        "tags": [],
        "colab": {
          "base_uri": "https://localhost:8080/",
          "height": 426
        },
        "id": "useful-logan",
        "outputId": "6be2bca7-8b84-49e4-dd26-210a52feec8a"
      },
      "outputs": [
        {
          "output_type": "execute_result",
          "data": {
            "text/plain": [
              "                          # of unique values\n",
              "age                                       47\n",
              "anaemia                                    2\n",
              "creatinine_phosphokinase                 208\n",
              "diabetes                                   2\n",
              "ejection_fraction                         17\n",
              "high_blood_pressure                        2\n",
              "platelets                                176\n",
              "serum_creatinine                          40\n",
              "serum_sodium                              27\n",
              "sex                                        2\n",
              "smoking                                    2\n",
              "DEATH_EVENT                                2"
            ],
            "text/html": [
              "\n",
              "  <div id=\"df-8e8323d9-f176-4408-862a-096e870f06ef\">\n",
              "    <div class=\"colab-df-container\">\n",
              "      <div>\n",
              "<style scoped>\n",
              "    .dataframe tbody tr th:only-of-type {\n",
              "        vertical-align: middle;\n",
              "    }\n",
              "\n",
              "    .dataframe tbody tr th {\n",
              "        vertical-align: top;\n",
              "    }\n",
              "\n",
              "    .dataframe thead th {\n",
              "        text-align: right;\n",
              "    }\n",
              "</style>\n",
              "<table border=\"1\" class=\"dataframe\">\n",
              "  <thead>\n",
              "    <tr style=\"text-align: right;\">\n",
              "      <th></th>\n",
              "      <th># of unique values</th>\n",
              "    </tr>\n",
              "  </thead>\n",
              "  <tbody>\n",
              "    <tr>\n",
              "      <th>age</th>\n",
              "      <td>47</td>\n",
              "    </tr>\n",
              "    <tr>\n",
              "      <th>anaemia</th>\n",
              "      <td>2</td>\n",
              "    </tr>\n",
              "    <tr>\n",
              "      <th>creatinine_phosphokinase</th>\n",
              "      <td>208</td>\n",
              "    </tr>\n",
              "    <tr>\n",
              "      <th>diabetes</th>\n",
              "      <td>2</td>\n",
              "    </tr>\n",
              "    <tr>\n",
              "      <th>ejection_fraction</th>\n",
              "      <td>17</td>\n",
              "    </tr>\n",
              "    <tr>\n",
              "      <th>high_blood_pressure</th>\n",
              "      <td>2</td>\n",
              "    </tr>\n",
              "    <tr>\n",
              "      <th>platelets</th>\n",
              "      <td>176</td>\n",
              "    </tr>\n",
              "    <tr>\n",
              "      <th>serum_creatinine</th>\n",
              "      <td>40</td>\n",
              "    </tr>\n",
              "    <tr>\n",
              "      <th>serum_sodium</th>\n",
              "      <td>27</td>\n",
              "    </tr>\n",
              "    <tr>\n",
              "      <th>sex</th>\n",
              "      <td>2</td>\n",
              "    </tr>\n",
              "    <tr>\n",
              "      <th>smoking</th>\n",
              "      <td>2</td>\n",
              "    </tr>\n",
              "    <tr>\n",
              "      <th>DEATH_EVENT</th>\n",
              "      <td>2</td>\n",
              "    </tr>\n",
              "  </tbody>\n",
              "</table>\n",
              "</div>\n",
              "      <button class=\"colab-df-convert\" onclick=\"convertToInteractive('df-8e8323d9-f176-4408-862a-096e870f06ef')\"\n",
              "              title=\"Convert this dataframe to an interactive table.\"\n",
              "              style=\"display:none;\">\n",
              "        \n",
              "  <svg xmlns=\"http://www.w3.org/2000/svg\" height=\"24px\"viewBox=\"0 0 24 24\"\n",
              "       width=\"24px\">\n",
              "    <path d=\"M0 0h24v24H0V0z\" fill=\"none\"/>\n",
              "    <path d=\"M18.56 5.44l.94 2.06.94-2.06 2.06-.94-2.06-.94-.94-2.06-.94 2.06-2.06.94zm-11 1L8.5 8.5l.94-2.06 2.06-.94-2.06-.94L8.5 2.5l-.94 2.06-2.06.94zm10 10l.94 2.06.94-2.06 2.06-.94-2.06-.94-.94-2.06-.94 2.06-2.06.94z\"/><path d=\"M17.41 7.96l-1.37-1.37c-.4-.4-.92-.59-1.43-.59-.52 0-1.04.2-1.43.59L10.3 9.45l-7.72 7.72c-.78.78-.78 2.05 0 2.83L4 21.41c.39.39.9.59 1.41.59.51 0 1.02-.2 1.41-.59l7.78-7.78 2.81-2.81c.8-.78.8-2.07 0-2.86zM5.41 20L4 18.59l7.72-7.72 1.47 1.35L5.41 20z\"/>\n",
              "  </svg>\n",
              "      </button>\n",
              "      \n",
              "  <style>\n",
              "    .colab-df-container {\n",
              "      display:flex;\n",
              "      flex-wrap:wrap;\n",
              "      gap: 12px;\n",
              "    }\n",
              "\n",
              "    .colab-df-convert {\n",
              "      background-color: #E8F0FE;\n",
              "      border: none;\n",
              "      border-radius: 50%;\n",
              "      cursor: pointer;\n",
              "      display: none;\n",
              "      fill: #1967D2;\n",
              "      height: 32px;\n",
              "      padding: 0 0 0 0;\n",
              "      width: 32px;\n",
              "    }\n",
              "\n",
              "    .colab-df-convert:hover {\n",
              "      background-color: #E2EBFA;\n",
              "      box-shadow: 0px 1px 2px rgba(60, 64, 67, 0.3), 0px 1px 3px 1px rgba(60, 64, 67, 0.15);\n",
              "      fill: #174EA6;\n",
              "    }\n",
              "\n",
              "    [theme=dark] .colab-df-convert {\n",
              "      background-color: #3B4455;\n",
              "      fill: #D2E3FC;\n",
              "    }\n",
              "\n",
              "    [theme=dark] .colab-df-convert:hover {\n",
              "      background-color: #434B5C;\n",
              "      box-shadow: 0px 1px 3px 1px rgba(0, 0, 0, 0.15);\n",
              "      filter: drop-shadow(0px 1px 2px rgba(0, 0, 0, 0.3));\n",
              "      fill: #FFFFFF;\n",
              "    }\n",
              "  </style>\n",
              "\n",
              "      <script>\n",
              "        const buttonEl =\n",
              "          document.querySelector('#df-8e8323d9-f176-4408-862a-096e870f06ef button.colab-df-convert');\n",
              "        buttonEl.style.display =\n",
              "          google.colab.kernel.accessAllowed ? 'block' : 'none';\n",
              "\n",
              "        async function convertToInteractive(key) {\n",
              "          const element = document.querySelector('#df-8e8323d9-f176-4408-862a-096e870f06ef');\n",
              "          const dataTable =\n",
              "            await google.colab.kernel.invokeFunction('convertToInteractive',\n",
              "                                                     [key], {});\n",
              "          if (!dataTable) return;\n",
              "\n",
              "          const docLinkHtml = 'Like what you see? Visit the ' +\n",
              "            '<a target=\"_blank\" href=https://colab.research.google.com/notebooks/data_table.ipynb>data table notebook</a>'\n",
              "            + ' to learn more about interactive tables.';\n",
              "          element.innerHTML = '';\n",
              "          dataTable['output_type'] = 'display_data';\n",
              "          await google.colab.output.renderOutput(dataTable, element);\n",
              "          const docLink = document.createElement('div');\n",
              "          docLink.innerHTML = docLinkHtml;\n",
              "          element.appendChild(docLink);\n",
              "        }\n",
              "      </script>\n",
              "    </div>\n",
              "  </div>\n",
              "  "
            ]
          },
          "metadata": {},
          "execution_count": 7
        }
      ],
      "source": [
        "# Unique values\n",
        "data.nunique().to_frame(name=\"# of unique values\")"
      ]
    },
    {
      "cell_type": "markdown",
      "id": "normal-clark",
      "metadata": {
        "papermill": {
          "duration": 0.040942,
          "end_time": "2021-05-19T07:03:39.647216",
          "exception": false,
          "start_time": "2021-05-19T07:03:39.606274",
          "status": "completed"
        },
        "tags": [],
        "id": "normal-clark"
      },
      "source": [
        "### Variable Separation\n",
        "Separating the features based on their data type."
      ]
    },
    {
      "cell_type": "code",
      "execution_count": null,
      "id": "f12f0e41",
      "metadata": {
        "colab": {
          "base_uri": "https://localhost:8080/"
        },
        "id": "f12f0e41",
        "outputId": "790b2156-2704-4bd7-a68d-739363677170"
      },
      "outputs": [
        {
          "output_type": "execute_result",
          "data": {
            "text/plain": [
              "(299, 12)"
            ]
          },
          "metadata": {},
          "execution_count": 8
        }
      ],
      "source": [
        "data.shape"
      ]
    },
    {
      "cell_type": "code",
      "execution_count": null,
      "id": "radio-commissioner",
      "metadata": {
        "execution": {
          "iopub.execute_input": "2021-05-19T07:03:39.734335Z",
          "iopub.status.busy": "2021-05-19T07:03:39.733442Z",
          "iopub.status.idle": "2021-05-19T07:03:39.736164Z",
          "shell.execute_reply": "2021-05-19T07:03:39.736665Z"
        },
        "papermill": {
          "duration": 0.049431,
          "end_time": "2021-05-19T07:03:39.736846",
          "exception": false,
          "start_time": "2021-05-19T07:03:39.687415",
          "status": "completed"
        },
        "tags": [],
        "id": "radio-commissioner"
      },
      "outputs": [],
      "source": [
        "\n",
        "features = ['age', 'anaemia', 'creatinine_phosphokinase', 'diabetes','ejection_fraction', 'high_blood_pressure', 'platelets','serum_creatinine', 'serum_sodium', 'sex', 'smoking']\n",
        "\n",
        "continuous_features = ['age','creatinine_phosphokinase','ejection_fraction', 'platelets','serum_creatinine','serum_sodium']\n",
        "\n",
        "discrete_features = ['anaemia', 'diabetes', 'high_blood_pressure', 'sex', 'smoking']\n",
        "\n",
        "target = 'DEATH_EVENT'"
      ]
    },
    {
      "cell_type": "markdown",
      "id": "further-values",
      "metadata": {
        "papermill": {
          "duration": 0.040991,
          "end_time": "2021-05-19T07:03:39.818675",
          "exception": false,
          "start_time": "2021-05-19T07:03:39.777684",
          "status": "completed"
        },
        "tags": [],
        "id": "further-values"
      },
      "source": [
        "### Target distribution"
      ]
    },
    {
      "cell_type": "code",
      "execution_count": null,
      "id": "transsexual-authentication",
      "metadata": {
        "_kg_hide-input": true,
        "execution": {
          "iopub.execute_input": "2021-05-19T07:03:39.905336Z",
          "iopub.status.busy": "2021-05-19T07:03:39.904310Z",
          "iopub.status.idle": "2021-05-19T07:03:40.098818Z",
          "shell.execute_reply": "2021-05-19T07:03:40.099601Z"
        },
        "papermill": {
          "duration": 0.240018,
          "end_time": "2021-05-19T07:03:40.099886",
          "exception": false,
          "start_time": "2021-05-19T07:03:39.859868",
          "status": "completed"
        },
        "tags": [],
        "colab": {
          "base_uri": "https://localhost:8080/",
          "height": 369
        },
        "id": "transsexual-authentication",
        "outputId": "730f5c45-8a5f-4832-897d-b0e228fd33cf"
      },
      "outputs": [
        {
          "output_type": "display_data",
          "data": {
            "text/plain": [
              "<Figure size 576x360 with 1 Axes>"
            ],
            "image/png": "[encoded data removed]"
          },
          "metadata": {
            "needs_background": "light"
          }
        }
      ],
      "source": [
        "fig, ax = plt.subplots(figsize=(8,5))\n",
        "sns.countplot(x=data[target], ax=ax)\n",
        "ax.set_xlabel(target, fontsize=13, fontweight='bold')\n",
        "for patch in ax.patches:\n",
        "    height = patch.get_height()\n",
        "    width = patch.get_width()\n",
        "    new_width = width * 0.4\n",
        "    patch.set_width(new_width)\n",
        "    x = patch.get_x()\n",
        "    patch.set_x(x + (width - new_width) / 2)\n",
        "    ax.text(x=x + width/2, y=height, s=height, ha='center', va='bottom')\n",
        "plt.tight_layout()"
      ]
    },
    {
      "cell_type": "markdown",
      "id": "described-sleeve",
      "metadata": {
        "papermill": {
          "duration": 0.042653,
          "end_time": "2021-05-19T07:03:40.197994",
          "exception": false,
          "start_time": "2021-05-19T07:03:40.155341",
          "status": "completed"
        },
        "tags": [],
        "id": "described-sleeve"
      },
      "source": [
        "### Distribution of continuous features"
      ]
    },
    {
      "cell_type": "code",
      "execution_count": null,
      "id": "geological-identification",
      "metadata": {
        "_kg_hide-input": true,
        "execution": {
          "iopub.execute_input": "2021-05-19T07:03:40.436075Z",
          "iopub.status.busy": "2021-05-19T07:03:40.354472Z",
          "iopub.status.idle": "2021-05-19T07:03:42.369083Z",
          "shell.execute_reply": "2021-05-19T07:03:42.369548Z"
        },
        "papermill": {
          "duration": 2.128385,
          "end_time": "2021-05-19T07:03:42.369717",
          "exception": false,
          "start_time": "2021-05-19T07:03:40.241332",
          "status": "completed"
        },
        "tags": [],
        "colab": {
          "base_uri": "https://localhost:8080/",
          "height": 1000
        },
        "id": "geological-identification",
        "outputId": "2d1976fc-e482-456f-dca2-b2adecd5927e"
      },
      "outputs": [
        {
          "output_type": "display_data",
          "data": {
            "text/plain": [
              "<Figure size 1080x1080 with 6 Axes>"
            ],
            "image/png": "[encoded data removed]"
          },
          "metadata": {
            "needs_background": "light"
          }
        }
      ],
      "source": [
        "fig, axes = plt.subplots(3,2, figsize=(15,15))\n",
        "axes = np.ravel(axes)\n",
        "for i, col in enumerate(continuous_features):\n",
        "    sns.distplot(a=data[col], ax=axes[i], bins=30, color='blue')\n",
        "    axes[i].set_title(f\" Distribution of {col}\")\n",
        "plt.tight_layout()"
      ]
    },
    {
      "cell_type": "markdown",
      "id": "proud-buyer",
      "metadata": {
        "papermill": {
          "duration": 0.047233,
          "end_time": "2021-05-19T07:03:42.464440",
          "exception": false,
          "start_time": "2021-05-19T07:03:42.417207",
          "status": "completed"
        },
        "tags": [],
        "id": "proud-buyer"
      },
      "source": [
        "### Distribution of discrete features"
      ]
    },
    {
      "cell_type": "code",
      "execution_count": null,
      "id": "organic-amsterdam",
      "metadata": {
        "_kg_hide-input": true,
        "execution": {
          "iopub.execute_input": "2021-05-19T07:03:42.613500Z",
          "iopub.status.busy": "2021-05-19T07:03:42.593094Z",
          "iopub.status.idle": "2021-05-19T07:03:43.642653Z",
          "shell.execute_reply": "2021-05-19T07:03:43.642010Z"
        },
        "papermill": {
          "duration": 1.130771,
          "end_time": "2021-05-19T07:03:43.642794",
          "exception": false,
          "start_time": "2021-05-19T07:03:42.512023",
          "status": "completed"
        },
        "tags": [],
        "colab": {
          "base_uri": "https://localhost:8080/",
          "height": 1000
        },
        "id": "organic-amsterdam",
        "outputId": "8213e778-572a-493e-9eab-e7cc27379200"
      },
      "outputs": [
        {
          "output_type": "display_data",
          "data": {
            "text/plain": [
              "<Figure size 936x1080 with 6 Axes>"
            ],
            "image/png": "[encoded data removed]"
          },
          "metadata": {
            "needs_background": "light"
          }
        }
      ],
      "source": [
        "## source: https://stackoverflow.com/questions/64946868/on-changing-the-bar-width-of-a-countplot-the-relative-position-of-the-bars-get\n",
        "disc_data = data[discrete_features].astype('category')\n",
        "\n",
        "fig, axes = plt.subplots(3,2, figsize=(13,15))\n",
        "axes=np.ravel(axes)\n",
        "for i, col in enumerate(discrete_features):\n",
        "    sns.countplot(x=disc_data[col], ax=axes[i])\n",
        "    axes[i].set_title(col, fontsize=13, fontweight='bold')\n",
        "    for patch, label in zip(axes[i].patches, [\"NO\", \"YES\"]):\n",
        "        height = patch.get_height()\n",
        "        width = patch.get_width()\n",
        "        new_width = width * 0.4\n",
        "        patch.set_width(new_width)\n",
        "        patch.set_label(label)\n",
        "        x = patch.get_x()\n",
        "        patch.set_x(x + (width - new_width) / 2)\n",
        "        axes[i].text(x=x + width/2, y=height, s=height, ha='center', va='bottom')\n",
        "            \n",
        "    axes[i].legend(loc='lower right')\n",
        "    axes[i].margins(y=0.1)\n",
        "plt.tight_layout()\n",
        "plt.show()"
      ]
    },
    {
      "cell_type": "markdown",
      "id": "documentary-moral",
      "metadata": {
        "papermill": {
          "duration": 0.04887,
          "end_time": "2021-05-19T07:03:43.741012",
          "exception": false,
          "start_time": "2021-05-19T07:03:43.692142",
          "status": "completed"
        },
        "tags": [],
        "id": "documentary-moral"
      },
      "source": [
        "### Continuous features Vs Target (Box plot)"
      ]
    },
    {
      "cell_type": "code",
      "execution_count": null,
      "id": "broad-straight",
      "metadata": {
        "_kg_hide-input": true,
        "execution": {
          "iopub.execute_input": "2021-05-19T07:03:43.912621Z",
          "iopub.status.busy": "2021-05-19T07:03:43.908001Z",
          "iopub.status.idle": "2021-05-19T07:03:45.221023Z",
          "shell.execute_reply": "2021-05-19T07:03:45.221501Z"
        },
        "papermill": {
          "duration": 1.43206,
          "end_time": "2021-05-19T07:03:45.221667",
          "exception": false,
          "start_time": "2021-05-19T07:03:43.789607",
          "status": "completed"
        },
        "tags": [],
        "colab": {
          "base_uri": "https://localhost:8080/",
          "height": 1000
        },
        "id": "broad-straight",
        "outputId": "d16f4893-a016-4c91-ddb3-a16df6afe529"
      },
      "outputs": [
        {
          "output_type": "display_data",
          "data": {
            "text/plain": [
              "<Figure size 936x1080 with 6 Axes>"
            ],
            "image/png": "[encoded data removed]"
          },
          "metadata": {
            "needs_background": "light"
          }
        }
      ],
      "source": [
        "fig, axes = plt.subplots(3,2, figsize=(13,15))\n",
        "axes=np.ravel(axes)\n",
        "\n",
        "for i,col in enumerate(continuous_features):\n",
        "    sns.boxplot(x = data[target], y = col, data=data, ax=axes[i])\n",
        "    axes[i].set_ylabel(col, fontweight='bold')\n",
        "    axes[i].set_xlabel(target, fontweight='bold')\n",
        "    axes[i].set_title(f'{col} vs target', fontsize=14)\n",
        "    \n",
        "plt.tight_layout()"
      ]
    },
    {
      "cell_type": "markdown",
      "id": "contemporary-practice",
      "metadata": {
        "papermill": {
          "duration": 0.05037,
          "end_time": "2021-05-19T07:03:45.323387",
          "exception": false,
          "start_time": "2021-05-19T07:03:45.273017",
          "status": "completed"
        },
        "tags": [],
        "id": "contemporary-practice"
      },
      "source": [
        "### Discrete features distribution w.r.t Target"
      ]
    },
    {
      "cell_type": "code",
      "execution_count": null,
      "id": "representative-removal",
      "metadata": {
        "_kg_hide-input": true,
        "execution": {
          "iopub.execute_input": "2021-05-19T07:03:45.499964Z",
          "iopub.status.busy": "2021-05-19T07:03:45.449163Z",
          "iopub.status.idle": "2021-05-19T07:03:46.481857Z",
          "shell.execute_reply": "2021-05-19T07:03:46.482345Z"
        },
        "papermill": {
          "duration": 1.108494,
          "end_time": "2021-05-19T07:03:46.482514",
          "exception": false,
          "start_time": "2021-05-19T07:03:45.374020",
          "status": "completed"
        },
        "tags": [],
        "colab": {
          "base_uri": "https://localhost:8080/",
          "height": 1000
        },
        "id": "representative-removal",
        "outputId": "05fca67a-2789-4424-dcda-0bcc89e0e443"
      },
      "outputs": [
        {
          "output_type": "display_data",
          "data": {
            "text/plain": [
              "<Figure size 1080x1080 with 6 Axes>"
            ],
            "image/png": "[encoded data removed]"
          },
          "metadata": {
            "needs_background": "light"
          }
        }
      ],
      "source": [
        "fig, axes = plt.subplots(3, 2, figsize=(15, 15))\n",
        "axes = [ax for axes_row in axes for ax in axes_row]\n",
        "\n",
        "for i, col in enumerate(discrete_features):\n",
        "    fltr = data[target] == 0\n",
        "    vc_a = data[fltr][col].value_counts().reset_index().rename({'index' : col, col: 'count'}, axis=1)\n",
        "\n",
        "    vc_b = data[~fltr][col].value_counts().reset_index().rename({'index' : col, col: 'count'}, axis=1)\n",
        "\n",
        "    vc_a[target] = 0\n",
        "    vc_b[target] = 1\n",
        "\n",
        "    df = pd.concat([vc_a, vc_b]).reset_index(drop = True)\n",
        "\n",
        "    sns.barplot(x = col, y = 'count', data = df , hue=target, ax=axes[i])\n",
        "    axes[i].set_title(col, fontweight='bold')\n",
        "plt.tight_layout()"
      ]
    },
    {
      "cell_type": "markdown",
      "id": "naked-career",
      "metadata": {
        "papermill": {
          "duration": 0.054916,
          "end_time": "2021-05-19T07:03:46.592218",
          "exception": false,
          "start_time": "2021-05-19T07:03:46.537302",
          "status": "completed"
        },
        "tags": [],
        "id": "naked-career"
      },
      "source": [
        "### Discrete features Vs Target"
      ]
    },
    {
      "cell_type": "code",
      "execution_count": null,
      "id": "revised-disabled",
      "metadata": {
        "execution": {
          "iopub.execute_input": "2021-05-19T07:03:46.701485Z",
          "iopub.status.busy": "2021-05-19T07:03:46.700910Z",
          "iopub.status.idle": "2021-05-19T07:03:47.563045Z",
          "shell.execute_reply": "2021-05-19T07:03:47.562444Z"
        },
        "papermill": {
          "duration": 0.917113,
          "end_time": "2021-05-19T07:03:47.563182",
          "exception": false,
          "start_time": "2021-05-19T07:03:46.646069",
          "status": "completed"
        },
        "tags": [],
        "colab": {
          "base_uri": "https://localhost:8080/",
          "height": 1000
        },
        "id": "revised-disabled",
        "outputId": "51c27a91-2dad-4a97-9e76-b6c1466ecc79"
      },
      "outputs": [
        {
          "output_type": "display_data",
          "data": {
            "text/plain": [
              "<Figure size 1080x1080 with 6 Axes>"
            ],
            "image/png": "[encoded data removed]"
          },
          "metadata": {
            "needs_background": "light"
          }
        }
      ],
      "source": [
        "fig, axes = plt.subplots(3, 2, figsize=(15,15))\n",
        "axes = [ax for axes_row in axes for ax in axes_row]\n",
        "for i, c in enumerate(discrete_features):\n",
        "    df = data[[c,target]].groupby(c).mean().reset_index()\n",
        "    sns.barplot(df[c], df[target], ax=axes[i])\n",
        "    for patch in axes[i].patches:\n",
        "        height = patch.get_height()\n",
        "        width = patch.get_width()\n",
        "        new_width = width * 0.4\n",
        "        patch.set_width(new_width)\n",
        "        x = patch.get_x()\n",
        "        patch.set_x(x + (width - new_width) / 2)\n",
        "    axes[i].set_ylabel('mean of target', fontsize=14)\n",
        "    axes[i].set_xlabel(c, fontsize=14, fontweight='bold')\n",
        "    \n",
        "plt.tight_layout()\n",
        "plt.show()"
      ]
    },
    {
      "cell_type": "markdown",
      "id": "aerial-affair",
      "metadata": {
        "papermill": {
          "duration": 0.05545,
          "end_time": "2021-05-19T07:03:47.786655",
          "exception": false,
          "start_time": "2021-05-19T07:03:47.731205",
          "status": "completed"
        },
        "tags": [],
        "id": "aerial-affair"
      },
      "source": [
        "### Correlation of features with target"
      ]
    },
    {
      "cell_type": "code",
      "execution_count": null,
      "id": "extreme-wellington",
      "metadata": {
        "execution": {
          "iopub.execute_input": "2021-05-19T07:03:47.904245Z",
          "iopub.status.busy": "2021-05-19T07:03:47.903598Z",
          "iopub.status.idle": "2021-05-19T07:03:48.157278Z",
          "shell.execute_reply": "2021-05-19T07:03:48.156780Z"
        },
        "papermill": {
          "duration": 0.314904,
          "end_time": "2021-05-19T07:03:48.157416",
          "exception": false,
          "start_time": "2021-05-19T07:03:47.842512",
          "status": "completed"
        },
        "tags": [],
        "colab": {
          "base_uri": "https://localhost:8080/",
          "height": 484
        },
        "id": "extreme-wellington",
        "outputId": "d437fdf6-d036-4a15-a67c-fba957acf88b"
      },
      "outputs": [
        {
          "output_type": "display_data",
          "data": {
            "text/plain": [
              "<Figure size 144x576 with 1 Axes>"
            ],
            "image/png": "[encoded data removed]"
          },
          "metadata": {
            "needs_background": "light"
          }
        }
      ],
      "source": [
        "corr_mat = data.corr()[target].sort_values(ascending=False).to_frame()\n",
        "plt.figure(figsize=(2,8))\n",
        "sns.heatmap(corr_mat, cmap='Blues', cbar=False, annot=True)\n",
        "plt.show()"
      ]
    },
    {
      "cell_type": "markdown",
      "id": "portuguese-waterproof",
      "metadata": {
        "papermill": {
          "duration": 0.056942,
          "end_time": "2021-05-19T07:03:48.271987",
          "exception": false,
          "start_time": "2021-05-19T07:03:48.215045",
          "status": "completed"
        },
        "tags": [],
        "id": "portuguese-waterproof"
      },
      "source": [
        "\n",
        "### Train test split\n",
        "<b>Training : </b>80% of data<br>\n",
        "<b>Testing : </b>20% of data"
      ]
    },
    {
      "cell_type": "code",
      "execution_count": null,
      "id": "protecting-christmas",
      "metadata": {
        "execution": {
          "iopub.execute_input": "2021-05-19T07:03:48.393206Z",
          "iopub.status.busy": "2021-05-19T07:03:48.390877Z",
          "iopub.status.idle": "2021-05-19T07:03:48.395957Z",
          "shell.execute_reply": "2021-05-19T07:03:48.395440Z"
        },
        "papermill": {
          "duration": 0.066057,
          "end_time": "2021-05-19T07:03:48.396103",
          "exception": false,
          "start_time": "2021-05-19T07:03:48.330046",
          "status": "completed"
        },
        "tags": [],
        "id": "protecting-christmas"
      },
      "outputs": [],
      "source": [
        "train, test = train_test_split(data, test_size=0.2, random_state=1, stratify=data[target])"
      ]
    },
    {
      "cell_type": "markdown",
      "id": "interstate-bracelet",
      "metadata": {
        "papermill": {
          "duration": 0.057771,
          "end_time": "2021-05-19T07:03:48.758527",
          "exception": false,
          "start_time": "2021-05-19T07:03:48.700756",
          "status": "completed"
        },
        "tags": [],
        "id": "interstate-bracelet"
      },
      "source": [
        "### Preprocessed data"
      ]
    },
    {
      "cell_type": "code",
      "execution_count": null,
      "id": "roman-scale",
      "metadata": {
        "execution": {
          "iopub.execute_input": "2021-05-19T07:03:48.882644Z",
          "iopub.status.busy": "2021-05-19T07:03:48.881706Z",
          "iopub.status.idle": "2021-05-19T07:03:48.887099Z",
          "shell.execute_reply": "2021-05-19T07:03:48.887622Z"
        },
        "papermill": {
          "duration": 0.070216,
          "end_time": "2021-05-19T07:03:48.887778",
          "exception": false,
          "start_time": "2021-05-19T07:03:48.817562",
          "status": "completed"
        },
        "tags": [],
        "colab": {
          "base_uri": "https://localhost:8080/"
        },
        "id": "roman-scale",
        "outputId": "93600edc-453f-4375-9f24-843c837d71cf"
      },
      "outputs": [
        {
          "output_type": "stream",
          "name": "stdout",
          "text": [
            "Train set :  (239, 12)\n",
            "Test set :  (60, 12)\n"
          ]
        }
      ],
      "source": [
        "X_train = train[features]\n",
        "y_train = train[target]\n",
        "\n",
        "X_test = test[features]\n",
        "y_test = test[target]\n",
        "\n",
        "print(\"Train set : \", train.shape)\n",
        "print(\"Test set : \", test.shape)"
      ]
    },
    {
      "cell_type": "markdown",
      "id": "ordinary-harmony",
      "metadata": {
        "papermill": {
          "duration": 0.059204,
          "end_time": "2021-05-19T07:03:50.180994",
          "exception": false,
          "start_time": "2021-05-19T07:03:50.121790",
          "status": "completed"
        },
        "tags": [],
        "id": "ordinary-harmony"
      },
      "source": [
        "<a id=\"section5\"></a>\n",
        "# Modeling and Evaluation"
      ]
    },
    {
      "cell_type": "markdown",
      "id": "earlier-austria",
      "metadata": {
        "papermill": {
          "duration": 0.057377,
          "end_time": "2021-05-19T07:03:50.676646",
          "exception": false,
          "start_time": "2021-05-19T07:03:50.619269",
          "status": "completed"
        },
        "tags": [],
        "id": "earlier-austria"
      },
      "source": [
        "<a id=\"tree\"></a>\n",
        "## Decision tree"
      ]
    },
    {
      "cell_type": "code",
      "execution_count": null,
      "id": "thermal-triumph",
      "metadata": {
        "execution": {
          "iopub.execute_input": "2021-05-19T07:03:50.919260Z",
          "iopub.status.busy": "2021-05-19T07:03:50.912168Z",
          "iopub.status.idle": "2021-05-19T07:03:50.923311Z",
          "shell.execute_reply": "2021-05-19T07:03:50.922553Z"
        },
        "papermill": {
          "duration": 0.075429,
          "end_time": "2021-05-19T07:03:50.923528",
          "exception": false,
          "start_time": "2021-05-19T07:03:50.848099",
          "status": "completed"
        },
        "tags": [],
        "colab": {
          "base_uri": "https://localhost:8080/"
        },
        "id": "thermal-triumph",
        "outputId": "eb8d7ba7-1f0e-44c9-f314-8cb3e39d79f1"
      },
      "outputs": [
        {
          "output_type": "stream",
          "name": "stdout",
          "text": [
            "Acc Score : 1.0\n",
            "Acc Score : 0.65\n"
          ]
        }
      ],
      "source": [
        "dt_clf = DecisionTreeClassifier(random_state=1)\n",
        "\n",
        "# training\n",
        "dt_clf.fit(X_train, y_train)\n",
        "\n",
        "train_preds = dt_clf.predict(X_train)\n",
        "test_preds = dt_clf.predict(X_test)\n",
        "\n",
        "print(\"Acc Score :\", accuracy_score(y_train, train_preds))\n",
        "\n",
        "print(\"Acc Score :\", accuracy_score(y_test, test_preds))  "
      ]
    },
    {
      "cell_type": "markdown",
      "id": "damaged-sociology",
      "metadata": {
        "papermill": {
          "duration": 0.057669,
          "end_time": "2021-05-19T07:03:51.040443",
          "exception": false,
          "start_time": "2021-05-19T07:03:50.982774",
          "status": "completed"
        },
        "tags": [],
        "id": "damaged-sociology"
      },
      "source": [
        "### Hyperparameter tuning"
      ]
    },
    {
      "cell_type": "code",
      "execution_count": null,
      "id": "inner-builder",
      "metadata": {
        "execution": {
          "iopub.execute_input": "2021-05-19T07:03:51.178232Z",
          "iopub.status.busy": "2021-05-19T07:03:51.172150Z",
          "iopub.status.idle": "2021-05-19T07:03:52.756902Z",
          "shell.execute_reply": "2021-05-19T07:03:52.756322Z"
        },
        "papermill": {
          "duration": 1.657061,
          "end_time": "2021-05-19T07:03:52.757071",
          "exception": false,
          "start_time": "2021-05-19T07:03:51.100010",
          "status": "completed"
        },
        "tags": [],
        "colab": {
          "base_uri": "https://localhost:8080/"
        },
        "id": "inner-builder",
        "outputId": "4636dd6d-8ba9-405d-b065-9b4627f16b42"
      },
      "outputs": [
        {
          "output_type": "stream",
          "name": "stdout",
          "text": [
            "\n",
            "Best Accuracy: 0.7953014184397164\n",
            "\n",
            "Best params: {'max_features': 0.6, 'max_depth': 2, 'criterion': 'gini'}\n"
          ]
        }
      ],
      "source": [
        "params = {\n",
        "    'max_depth': [2, 4, 6, 8, 10],\n",
        "    'criterion': ['gini', 'entropy'],\n",
        "    'max_features': [0.2, 0.4, 0.6, 0.8, 1]\n",
        "}\n",
        "\n",
        "model = DecisionTreeClassifier(random_state=1)\n",
        "\n",
        "search = RandomizedSearchCV(model, params, scoring='accuracy', random_state=1, n_iter=80)\n",
        "\n",
        "model = search.fit(X_train, y_train)\n",
        "\n",
        "print(\"\\nBest Accuracy:\", model.best_score_)\n",
        "print(\"\\nBest params:\", model.best_params_)"
      ]
    },
    {
      "cell_type": "code",
      "execution_count": null,
      "id": "44bbaf2f",
      "metadata": {
        "execution": {
          "iopub.execute_input": "2021-05-19T07:05:48.637078Z",
          "iopub.status.busy": "2021-05-19T07:05:48.631797Z",
          "iopub.status.idle": "2021-05-19T07:05:48.844850Z",
          "shell.execute_reply": "2021-05-19T07:05:48.844324Z"
        },
        "papermill": {
          "duration": 0.288671,
          "end_time": "2021-05-19T07:05:48.844993",
          "exception": false,
          "start_time": "2021-05-19T07:05:48.556322",
          "status": "completed"
        },
        "tags": [],
        "colab": {
          "base_uri": "https://localhost:8080/"
        },
        "id": "44bbaf2f",
        "outputId": "12b9d6b7-9950-42f7-e26d-0eb6f202b458"
      },
      "outputs": [
        {
          "output_type": "stream",
          "name": "stdout",
          "text": [
            "Train Acc Score : 0.8117154811715481\n",
            "Test Acc Score : 0.65\n"
          ]
        }
      ],
      "source": [
        "\n",
        "final_model = DecisionTreeClassifier(random_state=1, **model.best_params_)\n",
        "final_model.fit(X_train, y_train)\n",
        "\n",
        "train_preds = final_model.predict(X_train)\n",
        "test_preds = final_model.predict(X_test)\n",
        "\n",
        "print(\"Train Acc Score :\", accuracy_score(y_train, train_preds))\n",
        "print(\"Test Acc Score :\", accuracy_score(y_test, test_preds))  "
      ]
    },
    {
      "cell_type": "markdown",
      "id": "suited-familiar",
      "metadata": {
        "papermill": {
          "duration": 0.068053,
          "end_time": "2021-05-19T07:05:48.981188",
          "exception": false,
          "start_time": "2021-05-19T07:05:48.913135",
          "status": "completed"
        },
        "tags": [],
        "id": "suited-familiar"
      },
      "source": [
        "### Classification report"
      ]
    },
    {
      "cell_type": "code",
      "execution_count": null,
      "id": "solved-converter",
      "metadata": {
        "execution": {
          "iopub.execute_input": "2021-05-19T07:05:49.130664Z",
          "iopub.status.busy": "2021-05-19T07:05:49.130073Z",
          "iopub.status.idle": "2021-05-19T07:05:49.138976Z",
          "shell.execute_reply": "2021-05-19T07:05:49.138371Z"
        },
        "papermill": {
          "duration": 0.083588,
          "end_time": "2021-05-19T07:05:49.139110",
          "exception": false,
          "start_time": "2021-05-19T07:05:49.055522",
          "status": "completed"
        },
        "tags": [],
        "colab": {
          "base_uri": "https://localhost:8080/"
        },
        "id": "solved-converter",
        "outputId": "37e79987-b48d-465b-df3f-e716106937f9"
      },
      "outputs": [
        {
          "output_type": "stream",
          "name": "stdout",
          "text": [
            "              precision    recall  f1-score   support\n",
            "\n",
            "           0       0.72      0.80      0.76        41\n",
            "           1       0.43      0.32      0.36        19\n",
            "\n",
            "    accuracy                           0.65        60\n",
            "   macro avg       0.57      0.56      0.56        60\n",
            "weighted avg       0.63      0.65      0.63        60\n",
            "\n"
          ]
        }
      ],
      "source": [
        "print(classification_report(y_test, test_preds))"
      ]
    },
    {
      "cell_type": "markdown",
      "id": "a2ef28b4",
      "metadata": {
        "id": "a2ef28b4"
      },
      "source": [
        "# Post processing"
      ]
    },
    {
      "cell_type": "code",
      "execution_count": null,
      "id": "7b69d737",
      "metadata": {
        "id": "7b69d737"
      },
      "outputs": [],
      "source": [
        "import pickle\n",
        "\n",
        "with open(\"model.pkl\", \"wb\") as f:\n",
        "    pickle.dump(final_model, f)"
      ]
    },
    {
      "cell_type": "code",
      "execution_count": null,
      "id": "03a21b07",
      "metadata": {
        "colab": {
          "base_uri": "https://localhost:8080/"
        },
        "id": "03a21b07",
        "outputId": "79d2c051-5614-4468-aaef-f2d0c7212eac"
      },
      "outputs": [
        {
          "output_type": "execute_result",
          "data": {
            "text/plain": [
              "Index(['age', 'anaemia', 'creatinine_phosphokinase', 'diabetes',\n",
              "       'ejection_fraction', 'high_blood_pressure', 'platelets',\n",
              "       'serum_creatinine', 'serum_sodium', 'sex', 'smoking', 'DEATH_EVENT'],\n",
              "      dtype='object')"
            ]
          },
          "metadata": {},
          "execution_count": 24
        }
      ],
      "source": [
        "train.columns"
      ]
    },
    {
      "cell_type": "code",
      "execution_count": null,
      "id": "f87c9d95",
      "metadata": {
        "colab": {
          "base_uri": "https://localhost:8080/"
        },
        "id": "f87c9d95",
        "outputId": "4bef2aea-a2c5-4402-fbb4-d494e81c127a"
      },
      "outputs": [
        {
          "output_type": "stream",
          "name": "stdout",
          "text": [
            "age,anaemia,creatinine_phosphokinase,diabetes,ejection_fraction,high_blood_pressure,platelets,serum_creatinine,serum_sodium,sex,smoking,DEATH_EVENT,"
          ]
        }
      ],
      "source": [
        "for k in train.iloc[0].to_dict().keys():\n",
        "    print(k, end=',')"
      ]
    },
    {
      "cell_type": "code",
      "execution_count": null,
      "id": "6e74d91d",
      "metadata": {
        "id": "6e74d91d"
      },
      "outputs": [],
      "source": [
        "with open(\"model.pkl\", \"rb\") as f:\n",
        "    model = pickle.load(f)\n",
        "    \n",
        "def predict_unseen(x):\n",
        "    prob = model.predict_proba([x])[0][1]\n",
        "    return f\"{round(prob,2)*100}% chance of heart failure.\""
      ]
    },
    {
      "cell_type": "code",
      "execution_count": null,
      "id": "7bf5c83a",
      "metadata": {
        "colab": {
          "base_uri": "https://localhost:8080/",
          "height": 35
        },
        "id": "7bf5c83a",
        "outputId": "08f8de24-ebd1-415d-cdf9-589d4c615899"
      },
      "outputs": [
        {
          "output_type": "execute_result",
          "data": {
            "text/plain": [
              "'14.000000000000002% chance of heart failure.'"
            ],
            "application/vnd.google.colaboratory.intrinsic+json": {
              "type": "string"
            }
          },
          "metadata": {},
          "execution_count": 27
        }
      ],
      "source": [
        "predict_unseen([53.0, 0.0, 56.0, 0.0, 50.0, 0.0, 308000.0, 0.7, 135.0, 1.0, 1.0])"
      ]
    },
    {
      "cell_type": "markdown",
      "source": [
        "Thank You\n",
        "\n",
        "Prasanta Kumar Behera"
      ],
      "metadata": {
        "id": "UlETpCcwvkZ6"
      },
      "id": "UlETpCcwvkZ6"
    },
    {
      "cell_type": "code",
      "source": [
        ""
      ],
      "metadata": {
        "id": "3ZFd3WiCvsyr"
      },
      "id": "3ZFd3WiCvsyr",
      "execution_count": null,
      "outputs": []
    },
    {
      "cell_type": "markdown",
      "source": [
        ""
      ],
      "metadata": {
        "id": "YCvaTGQ4vb9c"
      },
      "id": "YCvaTGQ4vb9c"
    }
  ],
  "metadata": {
    "kernelspec": {
      "display_name": "Python 3 (ipykernel)",
      "language": "python",
      "name": "python3"
    },
    "language_info": {
      "codemirror_mode": {
        "name": "ipython",
        "version": 3
      },
      "file_extension": ".py",
      "mimetype": "text/x-python",
      "name": "python",
      "nbconvert_exporter": "python",
      "pygments_lexer": "ipython3",
      "version": "3.8.10"
    },
    "papermill": {
      "default_parameters": {},
      "duration": 141.83546,
      "end_time": "2021-05-19T07:05:50.581340",
      "environment_variables": {},
      "exception": null,
      "input_path": "__notebook__.ipynb",
      "output_path": "__notebook__.ipynb",
      "parameters": {},
      "start_time": "2021-05-19T07:03:28.745880",
      "version": "2.3.3"
    },
    "colab": {
      "name": "Heart-failure-prediction.ipynb",
      "provenance": [],
      "collapsed_sections": []
    }
  },
  "nbformat": 4,
  "nbformat_minor": 5
}